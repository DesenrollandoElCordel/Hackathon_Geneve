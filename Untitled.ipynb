{
 "cells": [
  {
   "cell_type": "code",
   "execution_count": 1,
   "id": "27c84000",
   "metadata": {},
   "outputs": [],
   "source": [
    "import pandas as pd\n",
    "import requests"
   ]
  },
  {
   "cell_type": "code",
   "execution_count": null,
   "id": "1a3ec75c",
   "metadata": {},
   "outputs": [],
   "source": [
    "import pandas as pd\n",
    "import requests\n",
    "\n",
    "# Lire le fichier Excel\n",
    "file_path = '/Users/pauline/Documents/Hackathon_Cordel/NER_Varios_wikidata_enriched.xlsx'\n",
    "df = pd.read_excel(file_path)\n",
    "\n",
    "# Fonction pour obtenir le pays depuis Wikidata\n",
    "def get_country(wikidata_id):\n",
    "    try:\n",
    "        url = f\"https://www.wikidata.org/wiki/Special:EntityData/{wikidata_id}.json\"\n",
    "        response = requests.get(url)\n",
    "        if response.status_code == 200:\n",
    "            data = response.json()\n",
    "            entities = data.get(\"entities\", {})\n",
    "            entity = entities.get(wikidata_id, {})\n",
    "            claims = entity.get(\"claims\", {})\n",
    "            country_claims = claims.get(\"P17\", [])\n",
    "            if country_claims:\n",
    "                country_id = country_claims[0].get(\"mainsnak\", {}).get(\"datavalue\", {}).get(\"value\", {}).get(\"id\", \"\")\n",
    "                if country_id:\n",
    "                    country_url = f\"https://www.wikidata.org/wiki/Special:EntityData/{country_id}.json\"\n",
    "                    country_response = requests.get(country_url)\n",
    "                    if country_response.status_code == 200:\n",
    "                        country_data = country_response.json()\n",
    "                        country_entities = country_data.get(\"entities\", {})\n",
    "                        country_entity = country_entities.get(country_id, {})\n",
    "                        country_labels = country_entity.get(\"labels\", {})\n",
    "                        country_name = country_labels.get(\"es\", {}).get(\"value\", \"\")\n",
    "                        return country_name\n",
    "    except Exception as e:\n",
    "        print(f\"Erreur pour l'ID Wikidata {wikidata_id}: {e}\")\n",
    "    return None\n",
    "\n",
    "# Ajouter une colonne pour le pays\n",
    "df['Country'] = df['id_wkd'].apply(get_country)\n",
    "\n",
    "# Sauvegarder le résultat dans un nouveau fichier Excel\n",
    "output_file_path = '/Users/pauline/Documents/Hackathon_Cordel/NER_Varios_wikidata_enriched_country.xlsx'\n",
    "df.to_excel(output_file_path, index=False)\n",
    "\n",
    "# Afficher un message de confirmation\n",
    "print(f\"Fichier de sortie enregistré à : {output_file_path}\")\n",
    "\n",
    "# Afficher les premières lignes du DataFrame pour vérifier les résultats\n",
    "print(df.head())\n"
   ]
  },
  {
   "cell_type": "code",
   "execution_count": null,
   "id": "970d9dd7",
   "metadata": {},
   "outputs": [],
   "source": [
    "# Chemins vers les fichiers Excel\n",
    "file_path_initial = '/path/to/your/initial_list.xlsx'\n",
    "file_path_selection = '/path/to/your/selection_list.xlsx'\n",
    "\n",
    "# Lire les fichiers Excel\n",
    "df_initial = pd.read_excel(file_path_initial)\n",
    "df_selection = pd.read_excel(file_path_selection)\n",
    "\n",
    "# Assurer que les noms de colonnes sont corrects\n",
    "# Supposons que la colonne des pays dans df_initial s'appelle 'Country' et dans df_selection s'appelle 'SelectedCountry'\n",
    "# Si ce n'est pas le cas, adaptez les noms de colonnes en conséquence.\n",
    "\n",
    "# Filtrer les pays présents dans la liste de sélection\n",
    "filtered_df = df_initial[df_initial['Country'].isin(df_selection['SelectedCountry'])]\n",
    "\n",
    "# Sauvegarder le résultat dans un nouveau fichier Excel\n",
    "output_file_path = '/path/to/your/filtered_list.xlsx'\n",
    "filtered_df.to_excel(output_file_path, index=False)\n",
    "\n",
    "# Afficher un message de confirmation\n",
    "print(f\"Fichier de sortie enregistré à : {output_file_path}\")\n",
    "\n",
    "# Afficher les premières lignes du DataFrame filtré pour vérification\n",
    "filtered_df.head()"
   ]
  }
 ],
 "metadata": {
  "kernelspec": {
   "display_name": "Python 3 (ipykernel)",
   "language": "python",
   "name": "python3"
  },
  "language_info": {
   "codemirror_mode": {
    "name": "ipython",
    "version": 3
   },
   "file_extension": ".py",
   "mimetype": "text/x-python",
   "name": "python",
   "nbconvert_exporter": "python",
   "pygments_lexer": "ipython3",
   "version": "3.10.8"
  }
 },
 "nbformat": 4,
 "nbformat_minor": 5
}
